{
 "cells": [
  {
   "cell_type": "code",
   "execution_count": 1,
   "id": "888f72ff",
   "metadata": {
    "execution": {
     "iopub.execute_input": "2024-09-19T14:25:38.441452Z",
     "iopub.status.busy": "2024-09-19T14:25:38.441031Z",
     "iopub.status.idle": "2024-09-19T14:25:41.540241Z",
     "shell.execute_reply": "2024-09-19T14:25:41.539309Z"
    },
    "papermill": {
     "duration": 3.109244,
     "end_time": "2024-09-19T14:25:41.542955",
     "exception": false,
     "start_time": "2024-09-19T14:25:38.433711",
     "status": "completed"
    },
    "tags": []
   },
   "outputs": [],
   "source": [
    "import math\n",
    "import numpy as np\n",
    "import pandas as pd\n",
    "import matplotlib.pyplot as plt\n",
    "import seaborn as sns\n",
    "from sympy import symbols, diff\n",
    "\n",
    "import warnings \n",
    "warnings.filterwarnings('ignore')\n",
    "%config InlineBackend.figure_format ='retina'\n",
    "sns.set(style='ticks')\n",
    "\n",
    "plt.rc('figure', figsize=(6, 3.7), dpi=100) \n",
    "plt.rc('axes', labelpad=20, facecolor=\"#ffffff\",\n",
    "       linewidth=0.4, grid=True, labelsize=10) \n",
    "plt.rc('xtick.major', width=0.2) \n",
    "plt.rc('ytick.major', width=0.2) \n",
    "plt.rc('grid', color='#EEEEEE', linewidth=0.25)\n",
    "plt.rc('font', family='Arial', weight='400', size=10)\n",
    "plt.rc('text', color='#282828')\n",
    "plt.rc('xtick', labelsize=10)\n",
    "plt.rc('ytick', labelsize=10)\n",
    "plt.rc('savefig', pad_inches=0.3, dpi=300)"
   ]
  },
  {
   "cell_type": "markdown",
   "id": "e52c8732",
   "metadata": {
    "papermill": {
     "duration": 0.00462,
     "end_time": "2024-09-19T14:25:41.553526",
     "exception": false,
     "start_time": "2024-09-19T14:25:41.548906",
     "status": "completed"
    },
    "tags": []
   },
   "source": [
    "# Input Parameters"
   ]
  },
  {
   "cell_type": "code",
   "execution_count": 2,
   "id": "7a284e2b",
   "metadata": {
    "execution": {
     "iopub.execute_input": "2024-09-19T14:25:41.566006Z",
     "iopub.status.busy": "2024-09-19T14:25:41.564913Z",
     "iopub.status.idle": "2024-09-19T14:25:41.573830Z",
     "shell.execute_reply": "2024-09-19T14:25:41.572748Z"
    },
    "papermill": {
     "duration": 0.017383,
     "end_time": "2024-09-19T14:25:41.576165",
     "exception": false,
     "start_time": "2024-09-19T14:25:41.558782",
     "status": "completed"
    },
    "tags": []
   },
   "outputs": [],
   "source": [
    "Tubing_Dia_m=62.3E-03  ## in m\n",
    "Roughness=30.0E-06  ## in m\n",
    "Area_Cross_Section=(math.pi*Tubing_Dia_m**2)/4   ## in m2 \n",
    "Water_Cut=0.2\n",
    "GOR=50  ## in m3/m3\n",
    "Std_Oil_Density=850  ## in kg/m3\n",
    "Water_Density=1050  ## in kg/m3\n",
    "Sp_gr_oil= Std_Oil_Density/1000\n",
    "API_gr=(141.5/Sp_gr_oil)-131.5\n",
    "Depth_Total=3000  ## in m\n",
    "Depth= Depth_Total ## in m\n",
    "Pwf=30525770  ## in Pa\n",
    "Bw=1\n",
    "Qosci=0.005  ## in m3/s\n",
    "Gas_Oil_IFT=0.008  ## in N/m\n",
    "Gas_Water_IFT=0.04  ## in N/m\n",
    "Gas_Density_Standard=0.95  ## in kg/m3\n",
    "Gas_Gravity=0.77\n",
    "Water_Viscosity_Pas=0.35E-03  ## in Pas\n",
    "FBHT=120  ## in deg C\n",
    "FTHT=30  ## in deg C\n",
    "Temp_Gradient= (FBHT-FTHT)/Depth_Total\n",
    "Well_Inclination=math.pi/2\n",
    "Dimensionless_Roughness= Roughness/Tubing_Dia_m\n",
    "Molecular_Weight=28.97*Gas_Gravity\n",
    "P_sc=1E05  ## in Pa\n",
    "T=FTHT"
   ]
  },
  {
   "cell_type": "markdown",
   "id": "b79db5d0",
   "metadata": {
    "papermill": {
     "duration": 0.004945,
     "end_time": "2024-09-19T14:25:41.586070",
     "exception": false,
     "start_time": "2024-09-19T14:25:41.581125",
     "status": "completed"
    },
    "tags": []
   },
   "source": [
    "# Calculations"
   ]
  },
  {
   "cell_type": "code",
   "execution_count": 3,
   "id": "84873300",
   "metadata": {
    "execution": {
     "iopub.execute_input": "2024-09-19T14:25:41.597390Z",
     "iopub.status.busy": "2024-09-19T14:25:41.597034Z",
     "iopub.status.idle": "2024-09-19T14:25:41.604000Z",
     "shell.execute_reply": "2024-09-19T14:25:41.602959Z"
    },
    "papermill": {
     "duration": 0.0154,
     "end_time": "2024-09-19T14:25:41.606379",
     "exception": false,
     "start_time": "2024-09-19T14:25:41.590979",
     "status": "completed"
    },
    "tags": []
   },
   "outputs": [],
   "source": [
    "## Newton Raphson\n",
    "def newton_raphson(f, x_symbolic, x0, max_iter, tol=1e-06 ):\n",
    "    x = x0\n",
    "    f_prime = diff(f, x_symbolic)\n",
    "    \n",
    "    for i in range(max_iter):\n",
    "        f_prime_val  = f_prime.subs(x_symbolic, x)\n",
    "        x_new = x- f.subs(x_symbolic, x)/f_prime_val\n",
    "        \n",
    "        if abs(x_new - x)< tol:\n",
    "            return x_new\n",
    "        \n",
    "        x = x_new\n",
    "        \n",
    "    raise ValueError('cannot converge')"
   ]
  },
  {
   "cell_type": "code",
   "execution_count": 4,
   "id": "625ae887",
   "metadata": {
    "execution": {
     "iopub.execute_input": "2024-09-19T14:25:41.617498Z",
     "iopub.status.busy": "2024-09-19T14:25:41.617183Z",
     "iopub.status.idle": "2024-09-19T14:25:41.628475Z",
     "shell.execute_reply": "2024-09-19T14:25:41.627428Z"
    },
    "papermill": {
     "duration": 0.019413,
     "end_time": "2024-09-19T14:25:41.630725",
     "exception": false,
     "start_time": "2024-09-19T14:25:41.611312",
     "status": "completed"
    },
    "tags": []
   },
   "outputs": [],
   "source": [
    "def func(A, P, x, t):\n",
    "        return (-A*P/6894.76)+((x+x**2+x**3-x**4)/(1-x)**3)-((14.76*t-9.76*t**2+4.58*t**3)*x**2)+(90.7*t-242*t**2+42.4*t**3)*x**(2.18+2.82*t)\n",
    "\n",
    "def func_derivative(A, P, x, t):\n",
    "    return -2*x*(4.58*t**3 - 9.76*t**2 + 14.76*t) + (-4*x**3 + 3*x**2 + 2*x + 1)/(1 - x)**3 + 3*(-x**4 + x**3 + x**2 + x)/(1 - x)**4 + x**(2.82*t + 1.18)*(2.82*t + 2.18)*(42.4*t**3 - 242*t**2 + 90.7*t)\n",
    "\n",
    "def newton_raphson(initial_guess, tol=1e-6, max_iter=1000):\n",
    "    x = initial_guess\n",
    "    for i in range(max_iter):\n",
    "        fx=func(A, P, x, t)\n",
    "        f_prime_x=func_derivative(A, P, x, t)\n",
    "\n",
    "        x = x - fx / f_prime_x\n",
    "\n",
    "        if abs(fx) < tol:\n",
    "            return x   \n",
    "    return x"
   ]
  },
  {
   "cell_type": "markdown",
   "id": "60985d5d",
   "metadata": {
    "execution": {
     "iopub.execute_input": "2024-09-19T07:55:32.593844Z",
     "iopub.status.busy": "2024-09-19T07:55:32.593376Z",
     "iopub.status.idle": "2024-09-19T07:55:32.599938Z",
     "shell.execute_reply": "2024-09-19T07:55:32.598824Z",
     "shell.execute_reply.started": "2024-09-19T07:55:32.593809Z"
    },
    "papermill": {
     "duration": 0.004813,
     "end_time": "2024-09-19T14:25:41.640498",
     "exception": false,
     "start_time": "2024-09-19T14:25:41.635685",
     "status": "completed"
    },
    "tags": []
   },
   "source": [
    "## Newton Raphson\n",
    "def newton_raphson(f, x0, max_iter, tol=1e-05):\n",
    "    try:\n",
    "        return newton(f, x0, tol=tol, maxiter=max_iter)\n",
    "    except RuntimeError:\n",
    "        raise ValueError('Cannot converge')"
   ]
  },
  {
   "cell_type": "code",
   "execution_count": 5,
   "id": "95efd72c",
   "metadata": {
    "execution": {
     "iopub.execute_input": "2024-09-19T14:25:41.655150Z",
     "iopub.status.busy": "2024-09-19T14:25:41.654631Z",
     "iopub.status.idle": "2024-09-19T14:25:42.203545Z",
     "shell.execute_reply": "2024-09-19T14:25:42.202461Z"
    },
    "papermill": {
     "duration": 0.560104,
     "end_time": "2024-09-19T14:25:42.206472",
     "exception": false,
     "start_time": "2024-09-19T14:25:41.646368",
     "status": "completed"
    },
    "tags": []
   },
   "outputs": [],
   "source": [
    "\n",
    "qsteps=np.linspace(Qosci,0,15)\n",
    "Pwh_Data= []\n",
    "P_Head_Data=[]\n",
    "P_Fric_Data=[]\n",
    "P_Acc_Data=[]\n",
    "Qosc_Data = []\n",
    "Mixture_Density_Data=[]\n",
    "Liquid_Holdup_Data=[]\n",
    "Gas_Holdup_Data=[]\n",
    "Liquid_Velocity_Data=[]\n",
    "Gas_Velocity_Data=[]\n",
    "Mixture_Velocity_Data=[]\n",
    "\n",
    "\n",
    "for Qosc in qsteps:\n",
    "    Delta_Depth=-10\n",
    "    Depth_m= 10\n",
    "    Sum_Delta_Depth=0\n",
    "    P=Pwf\n",
    "    P_Head_Loss=Pwf\n",
    "    P_Fric_Loss=Pwf\n",
    "    P_Acc_Loss=Pwf\n",
    "    Qwsc=Water_Cut*Qosc/(1-Water_Cut)  ## in m3/s\n",
    "    Qgsc= GOR*Qosc  ## in m3/s\n",
    "    while Depth_m >=0 and Sum_Delta_Depth>=(-3000):\n",
    "        Depth_m=Depth+Sum_Delta_Depth\n",
    "        T=Temp_Gradient*Depth_m+FTHT\n",
    "        T_F=(T*9/5)+32  ## deg Fah\n",
    "        T_Ran=(T*9/5)+491.67  ## deg R\n",
    "        T_abs= T+273.15  ## in deg K\n",
    "        \n",
    "        ## Computation of Z\n",
    "        \n",
    "        P_pc_psi=756.8-131.07*Gas_Gravity-3.6*Gas_Gravity**2\n",
    "        P_pc_Pa= P_pc_psi*6894.76\n",
    "        T_pc_Ran= 169.2+349.5*Gas_Gravity-74*Gas_Gravity**2\n",
    "        T_pc_K=T_pc_Ran*5/9\n",
    "        t=T_pc_Ran/T_Ran\n",
    "       \n",
    "        A=0.06125*t*math.exp(-1.2*(1-t)**2)/P_pc_psi\n",
    "        def func(A, P, x, t):\n",
    "            calc = (-A*P/6894.76)+((x+x**2+x**3-x**4)/(1-x)**3)-((14.76*t-9.76*t**2+4.58*t**3)*x**2)+(90.7*t-242*t**2+42.4*t**3)*x**(2.18+2.82*t)\n",
    "            return calc\n",
    "\n",
    "        def func_derivative(A, P, x, t):\n",
    "            return -2*x*(4.58*t**3 - 9.76*t**2 + 14.76*t) + (-4*x**3 + 3*x**2 + 2*x + 1)/(1 - x)**3 + 3*(-x**4 + x**3 + x**2 + x)/(1 - x)**4 + x**(2.82*t + 1.18)*(2.82*t + 2.18)*(42.4*t**3 - 242*t**2 + 90.7*t)\n",
    "\n",
    "        def newton_raphson_x(initial_guess=0.1, tol=1e-5, max_iter=1000):\n",
    "            x = initial_guess\n",
    "            for i in range(max_iter):\n",
    "                fx=func(A, P, x, t)\n",
    "                f_prime_x=func_derivative(A, P, x, t)\n",
    "\n",
    "                fx_real = float(fx.real)\n",
    "                f_prime_x_real = float(f_prime_x.real)\n",
    "                \n",
    "                x_temp = float(x - fx_real / f_prime_x_real)\n",
    "                x = x_temp\n",
    "\n",
    "                if abs(fx_real) < tol:\n",
    "                    return x   \n",
    "            return x\n",
    "\n",
    "      \n",
    "        g = newton_raphson_x()\n",
    "        Z = A*P/(g*6894.76)\n",
    "        \n",
    "        \n",
    "        ## Computation of Oil Viscosity, Bo, Rs, and Oil Density\n",
    "        \n",
    "        d=0.0125*API_gr-0.00091*(T_Ran-460)        \n",
    "        Rs= Gas_Gravity*((P/(6894.76*18.2)+1.4)*(10**d))**1.2048  ## in scf/STB  (Standing Correlation)\n",
    "        Rs_SI=Rs*0.178  ## Sm3/Sm3\n",
    "        \n",
    "        Bo=0.9759+0.00012*((Rs*(Gas_Gravity/Sp_gr_oil)**0.5)+(1.25*(T_Ran-460)))**1.2  ## in bbl/scf (Standing Correlation)\n",
    "        Bo_SI= Bo*5.615  ## in m3/m3\n",
    "        \n",
    "        a=3.0324-0.02023*API_gr\n",
    "        b=10**a\n",
    "        c=b*T_F**(-1.163)\n",
    "        Dead_Oil_Viscosity=10**c-1\n",
    "        F=10.715*(Rs+100)**(-0.515)\n",
    "        B=5.44*(Rs+150)**(-0.338)\n",
    "        Oil_Viscosity= F*Dead_Oil_Viscosity**B  ## in cp\n",
    "        Oil_Viscosity_Pas= Oil_Viscosity*0.001  ## in Pas\n",
    "        Oil_Density_SI=(Std_Oil_Density+Rs*Gas_Density_Standard)/Bo  ## kg/m3\n",
    "\n",
    "        \n",
    "        ## Computation of local fluid properties\n",
    "        qo=Bo*Qosc\n",
    "        qw=Bw*Qwsc\n",
    "        ql=qo+qw\n",
    "        \n",
    "        Viscosity_Liquid=((1-Water_Cut)*Oil_Viscosity_Pas)+(Water_Cut*Water_Viscosity_Pas)  ## in Pas\n",
    "        Liquid_Density_SI=((1-Water_Cut)*Oil_Density_SI)+(Water_Cut*Water_Density)\n",
    "        Gas_Liquid_IFT=((1-Water_Cut)*Gas_Oil_IFT)+(Water_Cut*Gas_Water_IFT)\n",
    "        \n",
    "        \n",
    "        ## Computation of dz/dp\n",
    "        h= 1e-5\n",
    "        P_h=P-h\n",
    "        def func1(A, P_h, y, t):\n",
    "            return (-A*P/6894.76)+((y+y**2+y**3-y**4)/(1-y)**3)-((14.76*t-9.76*t**2+4.58*t**3)*y**2)+(90.7*t-242*t**2+42.4*t**3)*y**(2.18+2.82*t)\n",
    "\n",
    "        def func1_derivative(A, P_h, y, t):\n",
    "            return -2*y*(4.58*t**3 - 9.76*t**2 + 14.76*t) + (-4*y**3 + 3*y**2 + 2*y + 1)/(1 - y)**3 + 3*(-y**4 + y**3 + y**2 + y)/(1 - y)**4 + y**(2.82*t + 1.18)*(2.82*t + 2.18)*(42.4*t**3 - 242*t**2 + 90.7*t)\n",
    "\n",
    "        def newton_raphson_y(initial_guess=0.1, tol=1e-5, max_iter=1000):\n",
    "            y = initial_guess\n",
    "            for i in range(max_iter):\n",
    "                f1y=func1(A, P_h, y, t)\n",
    "                f1_prime_y=func1_derivative(A, P_h, y, t)\n",
    "\n",
    "                f1y_real = float(f1y.real)\n",
    "                f1_prime_y_real = float(f1_prime_y.real)\n",
    "\n",
    "                y_temp = float(y - f1y_real / f1_prime_y_real)\n",
    "                y = y_temp\n",
    "\n",
    "                if abs(f1y_real) < tol:\n",
    "                    return y   \n",
    "            return y\n",
    "\n",
    "      \n",
    "        y = newton_raphson_y()\n",
    "        Z_h = A*P_h/(y*6894.76)\n",
    "        dzdp=(Z_h-Z)/(P_h-P)\n",
    "        \n",
    "        ## Computation of Gas Density & Viscosity\n",
    "        \n",
    "        Gas_Density= 0.00149406*P*Molecular_Weight/(Z*T_Ran*6894.76)\n",
    "        Gas_Density_SI=Gas_Density*1000 ## in kg/m3\n",
    "        \n",
    "        K1=(0.00094+0.000002*Molecular_Weight)*(T_Ran**1.5)/(200+19*Molecular_Weight+T_Ran)\n",
    "        X=3.5+(986/T_Ran)+(0.01*Molecular_Weight)\n",
    "        Y=2.4-0.2*X\n",
    "        Gas_Viscosity=K1*math.exp(X*Gas_Density**Y)\n",
    "        Gas_Viscosity_Pas=Gas_Viscosity*0.001\n",
    "        \n",
    "        Bg=Gas_Density_Standard/Gas_Density_SI\n",
    "        qg= Bg*Qgsc\n",
    "        \n",
    "\n",
    "        ##Computation of Superficial and mixture velocities in m/s\n",
    "        Velocity_oil=qo/Area_Cross_Section\n",
    "        Velocity_liquid=ql/Area_Cross_Section\n",
    "        Velocity_gas=qg/Area_Cross_Section\n",
    "        Velocity_mixture=Velocity_liquid+Velocity_gas\n",
    "\n",
    "        \n",
    "        ## Computation of dimensionless group\n",
    "        N_lv=Velocity_liquid*(Liquid_Density_SI/(9.81*Gas_Liquid_IFT))**0.25\n",
    "        N_gv=Velocity_gas*(Liquid_Density_SI/(9.81*Gas_Liquid_IFT))**0.25\n",
    "        N_d=Tubing_Dia_m*(9.81*Liquid_Density_SI/Gas_Liquid_IFT)**0.5\n",
    "        N_mu=Viscosity_Liquid*(9.81/(Liquid_Density_SI*Gas_Liquid_IFT**3))**0.25\n",
    "        \n",
    "        ## Computation of corrected liquid viscosity number\n",
    "        x1=N_mu\n",
    "        a0 =  1.9122E-03\n",
    "        a1 =  5.6348E-02\n",
    "        a2 = -1.2183E-01\n",
    "        a3 =  9.0950E-02\n",
    "        if x1<0.002 or x1>0.5:\n",
    "            print('Parameter x1 out of bounds. Hagedorn and Brown correlation not valid.')\n",
    "            break\n",
    "        else:\n",
    "            y1=a3*x1**3 + a2*x1**2 + a1*x1 + a0\n",
    "            N_mu_c=y1\n",
    "            \n",
    "        ## Computation of x2 and y2\n",
    "        b0 =  1.8089E-05\n",
    "        b1 = -9.9787E-04\n",
    "        b2 =  1.0029E-02\n",
    "        b3 =  3.6917E-01\n",
    "        c0 =  1.9585E-05\n",
    "        c1 = -1.2769E-03\n",
    "        c2 =  2.7058E-02\n",
    "        c3 = -4.8940E-02\n",
    "        c4 =  1.0000E+00\n",
    "        x2 = N_gv*(N_mu**0.380)/(N_d**2.14)\n",
    "        if x2 < 0 or x2 > 0.088:\n",
    "            print('Parameter x2 out of bounds. Hagedorn and Brown correlation not valid.')\n",
    "            break\n",
    "        elif x2>0.01:\n",
    "            y2=(b3*x2**3 + b2*x2**2 + b1*x2 + b0)/ (c4*x2**4 + c3*x2**3 + c2*x2**2 + c1*x2 + c0)\n",
    "        else:\n",
    "            y2=1\n",
    "        \n",
    "        si=y2 ## correction factor\n",
    "        \n",
    "        ## Computation of x3 & y3\n",
    "        d0 =  4.3260E-11\n",
    "        d1 = -3.7902E-05\n",
    "        e0 = -3.7520E-10\n",
    "        e1 = -1.9323E-04\n",
    "        e2 =  1.0000E+00\n",
    "        f0 =  6.4898E-05\n",
    "        f1 =  1.1470E+00\n",
    "        f2 = -1.8530E+01\n",
    "        g0 = 4.5319E-04\n",
    "        g1 = 1.0000E+00\n",
    "        x3=(N_lv/(N_gv**0.575))*(P/P_sc)**0.10*(N_mu_c/N_d)\n",
    "        if x3 < 0.0000021:\n",
    "            print('Parameter x3 out of bounds. Hagedorn and Brown correlation not valid.')\n",
    "            break\n",
    "        elif x3>=0.0000021 and x3<=4.64229E-05:\n",
    "            y3=(d1*x3+d0)/(e2*x3**2+e1*x3+e0)\n",
    "        elif x3>4.64229E-05 and x3<=5E-03:\n",
    "            y3=(f2*x3**2+f1*x3+f0)/(g1*x3+g0)\n",
    "        else:\n",
    "            y3=0.98\n",
    "        \n",
    "        H_l=si*y3  ## Liquid Holdup\n",
    "        \n",
    "        ## Compute liquid and gas volume fractions (no-slip)\n",
    "        lambda_l= ql/(ql+qg)  ## Liquid Vol Fraction\n",
    "        lambda_g=1-lambda_l  ## Gas Vol Fraction\n",
    "        \n",
    "        ## Perform reality check\n",
    "        if H_l< lambda_l:\n",
    "            H_l=lambda_l\n",
    "            \n",
    "        H_g=1-H_l  ## Gas holdup\n",
    "        \n",
    "        ## Computation of mixture properties\n",
    "        \n",
    "        Viscosity_Mixture= Viscosity_Liquid**H_l*Gas_Viscosity_Pas**H_g\n",
    "\n",
    "        Density_Mixture=H_g*Gas_Density_SI+H_l*Liquid_Density_SI\n",
    "        \n",
    "        ## Computation of Nr & Friction Factor\n",
    "        Nre= Density_Mixture*Velocity_mixture*Tubing_Dia_m/Viscosity_Mixture\n",
    "        \n",
    "        if Qosc == 0:\n",
    "            ff=0\n",
    "        else:\n",
    "            ff=0.25/(math.log10((Dimensionless_Roughness/3.7)+(5.74/Nre**0.9)))**2\n",
    "        \n",
    "        ## Computation of Pressure gradients & Pressure\n",
    "        \n",
    "        Dimensionless_Mixture_KE=Density_Mixture*Velocity_gas*Velocity_mixture/P\n",
    "        dpds_grav=Density_Mixture*9.8*math.sin(Well_Inclination)\n",
    "        Head_Loss=dpds_grav*Delta_Depth\n",
    "        P_Head_Loss=P_Head_Loss+Head_Loss\n",
    "        \n",
    "        dpds_fric=(Density_Mixture*Velocity_mixture**2*ff/2/Tubing_Dia_m)\n",
    "        Friction_Loss=dpds_fric*Delta_Depth\n",
    "        P_Fric_Loss=P_Fric_Loss+Friction_Loss\n",
    "        \n",
    "        dpds_acc=(dpds_grav+dpds_fric)*Dimensionless_Mixture_KE/(1-Dimensionless_Mixture_KE)\n",
    "        Acceleration_Loss=dpds_acc*Delta_Depth\n",
    "        P_Acc_Loss=P_Acc_Loss+Acceleration_Loss\n",
    "        \n",
    "        Total_Loss= Head_Loss+Friction_Loss+Acceleration_Loss            \n",
    "            \n",
    "        Sum_Delta_Depth=Sum_Delta_Depth+Delta_Depth\n",
    "        P=P+Total_Loss\n",
    "        \n",
    "    \n",
    "    Pwh_Data.append(P)\n",
    "    P_Head_Data.append(P_Head_Loss)\n",
    "    P_Fric_Data.append(P_Fric_Loss)\n",
    "    P_Acc_Data.append(P_Acc_Loss)\n",
    "    Qosc_Data.append(Qosc)\n",
    "    Mixture_Density_Data.append(Density_Mixture)\n",
    "    Mixture_Velocity_Data.append(Velocity_mixture)\n",
    "    Liquid_Holdup_Data.append(H_l)\n",
    "    Gas_Holdup_Data.append(H_g)\n",
    "    Liquid_Velocity_Data.append(Velocity_liquid)\n",
    "    Gas_Velocity_Data.append(Velocity_gas)"
   ]
  },
  {
   "cell_type": "markdown",
   "id": "bdd6fd0b",
   "metadata": {
    "papermill": {
     "duration": 0.00465,
     "end_time": "2024-09-19T14:25:42.216350",
     "exception": false,
     "start_time": "2024-09-19T14:25:42.211700",
     "status": "completed"
    },
    "tags": []
   },
   "source": [
    "# Plotting"
   ]
  },
  {
   "cell_type": "code",
   "execution_count": 6,
   "id": "e5ee6416",
   "metadata": {
    "execution": {
     "iopub.execute_input": "2024-09-19T14:25:42.228449Z",
     "iopub.status.busy": "2024-09-19T14:25:42.228035Z",
     "iopub.status.idle": "2024-09-19T14:25:42.607704Z",
     "shell.execute_reply": "2024-09-19T14:25:42.606573Z"
    },
    "papermill": {
     "duration": 0.388805,
     "end_time": "2024-09-19T14:25:42.610416",
     "exception": false,
     "start_time": "2024-09-19T14:25:42.221611",
     "status": "completed"
    },
    "tags": []
   },
   "outputs": [],
   "source": [
    "Pwh_df=pd.DataFrame(Pwh_Data, columns=['Pwh-Pa'])\n",
    "Qo_df=pd.DataFrame(Qosc_Data, columns=['Qosc-m3/sec'])\n",
    "Mix_density_df=pd.DataFrame(Mixture_Density_Data, columns=['Mixture Density-kg/m3'])\n",
    "Mix_Velocity_df=pd.DataFrame(Mixture_Velocity_Data, columns=['Mixture Velocity-m/sec'])\n",
    "Liq_Holdup_df=pd.DataFrame(Liquid_Holdup_Data, columns=['H_l'])\n",
    "Gas_Holdup_df=pd.DataFrame(Gas_Holdup_Data, columns=['H_g'])\n",
    "Liq_Velocity_df=pd.DataFrame(Liquid_Velocity_Data, columns=['Liquid Velocity-m/sec'])\n",
    "Gas_Velocity_df=pd.DataFrame(Gas_Velocity_Data, columns=['Gas Velocity-m/sec'])\n",
    "result_df = pd.concat([Qo_df, Pwh_df, Mix_density_df, Mix_Velocity_df, Liq_Holdup_df, Gas_Holdup_df, Liq_Velocity_df, Gas_Velocity_df], axis=1)\n",
    "result_df.to_excel('final_result_TPR.xlsx', index=False)"
   ]
  },
  {
   "cell_type": "code",
   "execution_count": 7,
   "id": "83a005b8",
   "metadata": {
    "execution": {
     "iopub.execute_input": "2024-09-19T14:25:42.622652Z",
     "iopub.status.busy": "2024-09-19T14:25:42.621630Z",
     "iopub.status.idle": "2024-09-19T14:25:43.231477Z",
     "shell.execute_reply": "2024-09-19T14:25:43.230429Z"
    },
    "papermill": {
     "duration": 0.619217,
     "end_time": "2024-09-19T14:25:43.234758",
     "exception": false,
     "start_time": "2024-09-19T14:25:42.615541",
     "status": "completed"
    },
    "tags": []
   },
   "outputs": [
    {
     "data": {
      "image/png": "[encoded data removed]",
      "text/plain": [
       "<Figure size 600x370 with 1 Axes>"
      ]
     },
     "metadata": {
      "image/png": {
       "height": 465,
       "width": 596
      }
     },
     "output_type": "display_data"
    }
   ],
   "source": [
    "plt.plot(Qosc_Data, Pwh_Data, marker='.', label='P_Total')\n",
    "##plt.plot(Qosc_Data, P_Head_Data, marker='.', label='P_Head')\n",
    "##plt.plot(Qosc_Data, P_Fric_Data, marker='.', label='P_Fric')\n",
    "##plt.plot(Qosc_Data, P_Acc_Data, marker='.', label='P_Acc')\n",
    "plt.xlim(left=0)\n",
    "plt.ylim(bottom=0)\n",
    "plt.grid(True, alpha=0.5)\n",
    "plt.xlabel('Qosc-m3/sec', fontsize=16)\n",
    "plt.ylabel('Pwh-Pa', fontsize=16)\n",
    "plt.title('Tubing Performance Curve', fontsize=20, fontweight='bold')\n",
    "plt.legend()\n",
    "plt.show()"
   ]
  },
  {
   "cell_type": "code",
   "execution_count": null,
   "id": "c0b23aee",
   "metadata": {
    "papermill": {
     "duration": 0.005781,
     "end_time": "2024-09-19T14:25:43.246715",
     "exception": false,
     "start_time": "2024-09-19T14:25:43.240934",
     "status": "completed"
    },
    "tags": []
   },
   "outputs": [],
   "source": []
  },
  {
   "cell_type": "code",
   "execution_count": null,
   "id": "f1c23028",
   "metadata": {
    "papermill": {
     "duration": 0.005618,
     "end_time": "2024-09-19T14:25:43.258331",
     "exception": false,
     "start_time": "2024-09-19T14:25:43.252713",
     "status": "completed"
    },
    "tags": []
   },
   "outputs": [],
   "source": []
  }
 ],
 "metadata": {
  "kaggle": {
   "accelerator": "none",
   "dataSources": [],
   "dockerImageVersionId": 30664,
   "isGpuEnabled": false,
   "isInternetEnabled": true,
   "language": "python",
   "sourceType": "notebook"
  },
  "kernelspec": {
   "display_name": "Python 3",
   "language": "python",
   "name": "python3"
  },
  "language_info": {
   "codemirror_mode": {
    "name": "ipython",
    "version": 3
   },
   "file_extension": ".py",
   "mimetype": "text/x-python",
   "name": "python",
   "nbconvert_exporter": "python",
   "pygments_lexer": "ipython3",
   "version": "3.10.13"
  },
  "papermill": {
   "default_parameters": {},
   "duration": 8.960646,
   "end_time": "2024-09-19T14:25:43.885220",
   "environment_variables": {},
   "exception": null,
   "input_path": "__notebook__.ipynb",
   "output_path": "__notebook__.ipynb",
   "parameters": {},
   "start_time": "2024-09-19T14:25:34.924574",
   "version": "2.5.0"
  }
 },
 "nbformat": 4,
 "nbformat_minor": 5
}
